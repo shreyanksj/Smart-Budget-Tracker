{
 "cells": [
  {
   "cell_type": "markdown",
   "metadata": {},
   "source": [
    "# Data Cleaning and Analysis\n",
    "\n",
    "This notebook is used for cleaning the transaction data and performing exploratory analysis. We will load the dataset, clean it, and conduct initial analysis to understand spending patterns."
   ]
  },
  {
   "cell_type": "code",
   "execution_count": null,
   "metadata": {
    "id": "load_data"
   },
   "outputs": [],
   "source": [
    "import pandas as pd\n",
    "\n",
    "# Load the sample transaction data\n",
    "data_path = '../data/sample_transactions.csv'\n",
    "transactions = pd.read_csv(data_path)\n",
    "transactions.head()"
   ]
  },
  {
   "cell_type": "code",
   "execution_count": null,
   "metadata": {
    "id": "clean_data"
   },
   "outputs": [],
   "source": [
    "# Data Cleaning\n",
    "\n",
    "# Check for missing values\n",
    "missing_values = transactions.isnull().sum()\n",
    "print(missing_values)\n",
    "\n",
    "# Fill or drop missing values as necessary\n",
    "transactions.fillna({'description': 'Unknown', 'amount': 0}, inplace=True)\n",
    "\n",
    "# Convert date column to datetime format\n",
    "transactions['date'] = pd.to_datetime(transactions['date'])\n",
    "\n",
    "# Check data types and convert if necessary\n",
    "transactions.dtypes"
   ]
  },
  {
   "cell_type": "code",
   "execution_count": null,
   "metadata": {
    "id": "exploratory_analysis"
   },
   "outputs": [],
   "source": [
    "# Exploratory Analysis\n",
    "\n",
    "# Summary statistics\n",
    "summary_stats = transactions.describe()\n",
    "print(summary_stats)\n",
    "\n",
    "# Visualize spending by category\n",
    "import matplotlib.pyplot as plt\n",
    "import seaborn as sns\n",
    "\n",
    "plt.figure(figsize=(10, 6))\n",
    "sns.countplot(data=transactions, x='category')\n",
    "plt.title('Transaction Count by Category')\n",
    "plt.xticks(rotation=45)\n",
    "plt.show()"
   ]
  },
  {
   "cell_type": "code",
   "execution_count": null,
   "metadata": {
    "id": "save_cleaned_data"
   },
   "outputs": [],
   "source": [
    "# Save cleaned data to Excel\n",
    "output_path = '../data/processed_transactions.xlsx'\n",
    "transactions.to_excel(output_path, index=False)\n",
    "print('Cleaned data saved to Excel.')"
   ]
  }
 ],
 "metadata": {
  "kernelspec": {
   "display_name": "Python 3",
   "language": "python",
   "name": "python3"
  },
  "language_info": {
   "codemirror_mode": {
    "name": "ipython",
    "version": 3
   },
   "file_extension": ".py",
   "mimetype": "text/x-python",
   "name": "python",
   "nbconvert_exporter": "python",
   "pygments_lexer": "ipython3",
   "version": "3.8.5"
  }
 },
 "nbformat": 4,
 "nbformat_minor": 4
}